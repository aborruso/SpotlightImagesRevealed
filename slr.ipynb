{
 "cells": [
  {
   "cell_type": "code",
   "execution_count": 6,
   "metadata": {
    "collapsed": true
   },
   "outputs": [],
   "source": [
    "import getpass\n",
    "import os\n",
    "import imghdr\n",
    "from PIL import Image\n",
    "import shutil\n",
    "from distutils.dir_util import copy_tree\n",
    "from pathlib import Path"
   ]
  },
  {
   "cell_type": "code",
   "execution_count": 7,
   "metadata": {},
   "outputs": [],
   "source": [
    "# get the user home folder\n",
    "home = str(Path.home())"
   ]
  },
  {
   "cell_type": "code",
   "execution_count": 8,
   "metadata": {
    "collapsed": true
   },
   "outputs": [],
   "source": [
    "# get the username\n",
    "uname=getpass.getuser()"
   ]
  },
  {
   "cell_type": "code",
   "execution_count": 9,
   "metadata": {},
   "outputs": [],
   "source": [
    "# get the spotlight folder \n",
    "slPathpart=\"AppData\\\\Local\\\\Packages\\\\Microsoft.Windows.ContentDeliveryManager_cw5n1h2txyewy\\\\LocalState\\\\Assets\"\n",
    "slPath=os.path.join(home, slPathpart)\n",
    "os.chdir(slPath)"
   ]
  },
  {
   "cell_type": "code",
   "execution_count": 10,
   "metadata": {
    "collapsed": true
   },
   "outputs": [],
   "source": [
    "# create the SpotlightImagesRevealed user folder and the temp subfolder\n",
    "slPathUser=os.path.join('C:\\\\Users', uname, 'Pictures\\\\SpotlightImagesRevealed')\n",
    "if not os.path.exists(slPathUser):\n",
    "    os.makedirs(slPathUser)\n",
    "tempFolder=os.path.join(slPathUser,'temp')\n",
    "if not os.path.exists(tempFolder):\n",
    "    os.makedirs(tempFolder)"
   ]
  },
  {
   "cell_type": "code",
   "execution_count": 11,
   "metadata": {
    "collapsed": true
   },
   "outputs": [],
   "source": [
    "# delete all files in SpotLightRevealed temp folder\n",
    "for the_file in os.listdir(tempFolder):\n",
    "    file_path = os.path.join(tempFolder, the_file)\n",
    "    try:\n",
    "        if os.path.isfile(file_path):\n",
    "            os.unlink(file_path)\n",
    "    except Exception as e:\n",
    "        print(e)"
   ]
  },
  {
   "cell_type": "code",
   "execution_count": 12,
   "metadata": {
    "collapsed": true
   },
   "outputs": [],
   "source": [
    "# the list of source files\n",
    "slrlistS = []\n",
    "for root, dirs, files in os.walk(slPath):\n",
    "    for file in files:\n",
    "        slrlistS.append(file)"
   ]
  },
  {
   "cell_type": "code",
   "execution_count": 13,
   "metadata": {
    "collapsed": true
   },
   "outputs": [],
   "source": [
    "# the list of destination files\n",
    "slrlistD = []\n",
    "for root, dirs, files in os.walk(slPathUser):\n",
    "    for file in files:\n",
    "        slrlistD.append(file)\n",
    "slrlistD = [ext.replace('.jpeg', '') for ext in slrlistD]"
   ]
  },
  {
   "cell_type": "code",
   "execution_count": 14,
   "metadata": {
    "collapsed": true
   },
   "outputs": [],
   "source": [
    "# the files to copy from source folder, only those that are not already in destination\n",
    "filesToCopy=list(set(slrlistS) - set(slrlistD))"
   ]
  },
  {
   "cell_type": "code",
   "execution_count": 15,
   "metadata": {
    "collapsed": true
   },
   "outputs": [],
   "source": [
    "# copy the files from source to destination\n",
    "for i in filesToCopy:\n",
    "    shutil.copy2(os.path.join('C:\\\\Users', uname, slPathpart,i), tempFolder)"
   ]
  },
  {
   "cell_type": "code",
   "execution_count": 16,
   "metadata": {
    "collapsed": true
   },
   "outputs": [],
   "source": [
    "# delete all files that are not jpeg\n",
    "for root, _, files in os.walk(tempFolder):\n",
    "    for f in files:\n",
    "        fullpath = os.path.join(root, f)\n",
    "        imageType=imghdr.what(fullpath)\n",
    "        try:\n",
    "            if (imageType != 'jpeg'):\n",
    "                os.remove(fullpath)\n",
    "        except WindowsError:\n",
    "            print(\"Error \" + fullpath)"
   ]
  },
  {
   "cell_type": "code",
   "execution_count": 17,
   "metadata": {
    "collapsed": true
   },
   "outputs": [],
   "source": [
    "# add the right extension to files\n",
    "for root, _, files in os.walk(tempFolder):\n",
    "    for f in files:\n",
    "        fullpath = os.path.join(root, f)\n",
    "        imageType=imghdr.what(fullpath)\n",
    "        try:\n",
    "            suffix = imageType\n",
    "            newName = os.path.join(fullpath + '.' + suffix)\n",
    "            os.rename(fullpath,newName)\n",
    "        except WindowsError:\n",
    "            print(\"Error \" + fullpath)"
   ]
  },
  {
   "cell_type": "code",
   "execution_count": 18,
   "metadata": {
    "collapsed": true
   },
   "outputs": [],
   "source": [
    "# remove the images that have a portrait ratio or a widht lower than 1920px\n",
    "for root, _, files in os.walk(tempFolder):\n",
    "    for f in files:\n",
    "        fullpath = os.path.join(root, f)\n",
    "        im = Image.open(fullpath)\n",
    "        width, height = im.size\n",
    "        ratio = width/height\n",
    "        im.close()\n",
    "        if (ratio <= 1.0) or (width < 1920):\n",
    "            try:\n",
    "                os.remove(fullpath)\n",
    "            except WindowsError:\n",
    "                print(\"Error \" + fullpath)"
   ]
  },
  {
   "cell_type": "code",
   "execution_count": 19,
   "metadata": {},
   "outputs": [
    {
     "data": {
      "text/plain": [
       "[]"
      ]
     },
     "execution_count": 19,
     "metadata": {},
     "output_type": "execute_result"
    }
   ],
   "source": [
    "# copy all files from SpotLight temp user folder to SpotlightImagesRevealed one\n",
    "fromDirectory = tempFolder\n",
    "toDirectory = slPathUser\n",
    "copy_tree(fromDirectory, toDirectory)"
   ]
  },
  {
   "cell_type": "code",
   "execution_count": 20,
   "metadata": {
    "collapsed": true
   },
   "outputs": [],
   "source": [
    "# remove the temp SpotlightImagesRevealed folder\n",
    "try:\n",
    "    shutil.rmtree(tempFolder)\n",
    "except OSError as e:\n",
    "    print (\"Error: %s - %s.\" % (e.filename, e.strerror))"
   ]
  }
 ],
 "metadata": {
  "kernelspec": {
   "display_name": "Python 3",
   "language": "python",
   "name": "python3"
  },
  "language_info": {
   "codemirror_mode": {
    "name": "ipython",
    "version": 3
   },
   "file_extension": ".py",
   "mimetype": "text/x-python",
   "name": "python",
   "nbconvert_exporter": "python",
   "pygments_lexer": "ipython3",
   "version": "3.5.2"
  }
 },
 "nbformat": 4,
 "nbformat_minor": 2
}
