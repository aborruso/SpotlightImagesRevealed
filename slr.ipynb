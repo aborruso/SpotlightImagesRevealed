{
 "cells": [
  {
   "cell_type": "code",
   "execution_count": 104,
   "metadata": {
    "collapsed": true
   },
   "outputs": [],
   "source": [
    "import getpass\n",
    "import os\n",
    "import imghdr\n",
    "from PIL import Image\n",
    "import shutil\n",
    "from distutils.dir_util import copy_tree"
   ]
  },
  {
   "cell_type": "code",
   "execution_count": 105,
   "metadata": {
    "collapsed": true
   },
   "outputs": [],
   "source": [
    "# get the username\n",
    "uname=getpass.getuser()"
   ]
  },
  {
   "cell_type": "code",
   "execution_count": 106,
   "metadata": {
    "collapsed": true
   },
   "outputs": [],
   "source": [
    "# get the spotlight folder \n",
    "slPathpart=\"AppData\\\\Local\\\\Packages\\\\Microsoft.Windows.ContentDeliveryManager_cw5n1h2txyewy\\\\LocalState\\\\Assets\"\n",
    "slPath=os.path.join('C:\\\\Users', uname, slPathpart)\n",
    "os.chdir(slPath)"
   ]
  },
  {
   "cell_type": "code",
   "execution_count": 107,
   "metadata": {
    "collapsed": true
   },
   "outputs": [],
   "source": [
    "# create the SpotlightImagesRevealed user folder and the temp subfolder\n",
    "slPathUser=os.path.join('C:\\\\Users', uname, 'Pictures\\\\SpotlightImagesRevealed')\n",
    "if not os.path.exists(slPathUser):\n",
    "    os.makedirs(slPathUser)\n",
    "tempFolder=os.path.join(slPathUser,'temp')\n",
    "if not os.path.exists(tempFolder):\n",
    "    os.makedirs(tempFolder)"
   ]
  },
  {
   "cell_type": "code",
   "execution_count": 108,
   "metadata": {
    "collapsed": true
   },
   "outputs": [],
   "source": [
    "# delete all files in SpotLightRevealed temp folder\n",
    "for the_file in os.listdir(tempFolder):\n",
    "    file_path = os.path.join(tempFolder, the_file)\n",
    "    try:\n",
    "        if os.path.isfile(file_path):\n",
    "            os.unlink(file_path)\n",
    "    except Exception as e:\n",
    "        print(e)"
   ]
  },
  {
   "cell_type": "code",
   "execution_count": 109,
   "metadata": {
    "collapsed": true
   },
   "outputs": [],
   "source": [
    "# the list of source files\n",
    "slrlistS = []\n",
    "for root, dirs, files in os.walk(slPath):\n",
    "    for file in files:\n",
    "        slrlistS.append(file)"
   ]
  },
  {
   "cell_type": "code",
   "execution_count": 110,
   "metadata": {
    "collapsed": true
   },
   "outputs": [],
   "source": [
    "# the list of destination files\n",
    "slrlistD = []\n",
    "for root, dirs, files in os.walk(slPathUser):\n",
    "    for file in files:\n",
    "        slrlistD.append(file)\n",
    "slrlistD = [ext.replace('.jpeg', '') for ext in slrlistD]"
   ]
  },
  {
   "cell_type": "code",
   "execution_count": 111,
   "metadata": {},
   "outputs": [],
   "source": [
    "# the files to copy from source folder, only those that are not already in destination\n",
    "filesToCopy=list(set(slrlistS) - set(slrlistD))"
   ]
  },
  {
   "cell_type": "code",
   "execution_count": 112,
   "metadata": {},
   "outputs": [],
   "source": [
    "# copy the files from source to destination\n",
    "for i in filesToCopy:\n",
    "    shutil.copy2(os.path.join('C:\\\\Users', uname, slPathpart,i), tempFolder)"
   ]
  },
  {
   "cell_type": "code",
   "execution_count": 113,
   "metadata": {
    "collapsed": true
   },
   "outputs": [],
   "source": [
    "# delete all files that are not jpeg\n",
    "for root, _, files in os.walk(tempFolder):\n",
    "    for f in files:\n",
    "        fullpath = os.path.join(root, f)\n",
    "        imageType=imghdr.what(fullpath)\n",
    "        try:\n",
    "            if (imageType != 'jpeg'):\n",
    "                os.remove(fullpath)\n",
    "        except WindowsError:\n",
    "            print(\"Error \" + fullpath)"
   ]
  },
  {
   "cell_type": "code",
   "execution_count": 114,
   "metadata": {
    "collapsed": true
   },
   "outputs": [],
   "source": [
    "# add the right extension to files\n",
    "for root, _, files in os.walk(tempFolder):\n",
    "    for f in files:\n",
    "        fullpath = os.path.join(root, f)\n",
    "        imageType=imghdr.what(fullpath)\n",
    "        try:\n",
    "            suffix = imageType\n",
    "            newName = os.path.join(fullpath + '.' + suffix)\n",
    "            os.rename(fullpath,newName)\n",
    "        except WindowsError:\n",
    "            print(\"Error \" + fullpath)"
   ]
  },
  {
   "cell_type": "code",
   "execution_count": 115,
   "metadata": {
    "collapsed": true
   },
   "outputs": [],
   "source": [
    "# remove the images that have a portrait ratio or a widht lower than 1920px\n",
    "for root, _, files in os.walk(tempFolder):\n",
    "    for f in files:\n",
    "        fullpath = os.path.join(root, f)\n",
    "        im = Image.open(fullpath)\n",
    "        width, height = im.size\n",
    "        ratio = width/height\n",
    "        im.close()\n",
    "        if (ratio <= 1.0) or (width < 1920):\n",
    "            try:\n",
    "                os.remove(fullpath)\n",
    "            except WindowsError:\n",
    "                print(\"Error \" + fullpath)"
   ]
  },
  {
   "cell_type": "code",
   "execution_count": 116,
   "metadata": {},
   "outputs": [
    {
     "data": {
      "text/plain": [
       "['C:\\\\Users\\\\andybandy\\\\Pictures\\\\SpotlightImagesRevealed\\\\0b5ed0fcb47e99eb9e453a4840b868559050b844e04d90a2b63d39af1e8e183b.jpeg',\n",
       " 'C:\\\\Users\\\\andybandy\\\\Pictures\\\\SpotlightImagesRevealed\\\\141fc006a606326e0763dc07ea04f04f1d71f0f4497b47b6841c36aa83c870fe.jpeg',\n",
       " 'C:\\\\Users\\\\andybandy\\\\Pictures\\\\SpotlightImagesRevealed\\\\14a697c4224c3058bcb2bf756c88fb00f4819289079c4a3493173268a3e868fe.jpeg',\n",
       " 'C:\\\\Users\\\\andybandy\\\\Pictures\\\\SpotlightImagesRevealed\\\\20b061ddb1a3ce78e3520bef6e532f13ffb642920273d60cf21997a0f3a0daed.jpeg',\n",
       " 'C:\\\\Users\\\\andybandy\\\\Pictures\\\\SpotlightImagesRevealed\\\\2e3267a60af8756df86716b74d486058fc2b1d40319f7fdc35a4cf9d00e2a789.jpeg',\n",
       " 'C:\\\\Users\\\\andybandy\\\\Pictures\\\\SpotlightImagesRevealed\\\\2f427bbf24084d70efa7be7b5b5050d88399b7f6698a01eb52ceb97a89b65f91.jpeg',\n",
       " 'C:\\\\Users\\\\andybandy\\\\Pictures\\\\SpotlightImagesRevealed\\\\42e4efa8d9833723f83a79967b635d8f260a5d284f4e6da557fc43341fdd172c.jpeg',\n",
       " 'C:\\\\Users\\\\andybandy\\\\Pictures\\\\SpotlightImagesRevealed\\\\450443ed9b1ed3fb6dd8c648ff7b9aae45750cfa289554b70668ea53cdf90558.jpeg',\n",
       " 'C:\\\\Users\\\\andybandy\\\\Pictures\\\\SpotlightImagesRevealed\\\\4ac810c42e4f3c185052fa02c9692da896cdf691bec484dc9b04112ada9fb150.jpeg',\n",
       " 'C:\\\\Users\\\\andybandy\\\\Pictures\\\\SpotlightImagesRevealed\\\\67f2b016e59637e2fa4b6d23f00c19e2a87a3833578ebd8d592052381f59832f.jpeg',\n",
       " 'C:\\\\Users\\\\andybandy\\\\Pictures\\\\SpotlightImagesRevealed\\\\67fce399151125af25a65c60302264acbc9e48a0c9d5f8f4d267854ef8622132.jpeg',\n",
       " 'C:\\\\Users\\\\andybandy\\\\Pictures\\\\SpotlightImagesRevealed\\\\7505bab78b7fb814bc93b62d711c3f2b0bbd935e99062b911cd3e36289cbd922.jpeg',\n",
       " 'C:\\\\Users\\\\andybandy\\\\Pictures\\\\SpotlightImagesRevealed\\\\838f947dc3ae4cad7d0d6a242a3cef74729e56c40e33ad603546f27f71ad35d4.jpeg',\n",
       " 'C:\\\\Users\\\\andybandy\\\\Pictures\\\\SpotlightImagesRevealed\\\\9b513868bee177c10eafe9250908df245dddc6524e86a9fde16108bc49cf5d1b.jpeg',\n",
       " 'C:\\\\Users\\\\andybandy\\\\Pictures\\\\SpotlightImagesRevealed\\\\9b5ec4ccaba14238a721e160b8b9a0fe9e1005ae2607e0769fb1aa85403d3a6b.jpeg',\n",
       " 'C:\\\\Users\\\\andybandy\\\\Pictures\\\\SpotlightImagesRevealed\\\\a3305fea147e7b150dee65ecfc03ed335627f85c8d04acef0f06b437e0f60bb2.jpeg',\n",
       " 'C:\\\\Users\\\\andybandy\\\\Pictures\\\\SpotlightImagesRevealed\\\\ac595869b7482cf0de3d307d8beb5a5dc6f938b40cc281b51636f2fbcd093f32.jpeg',\n",
       " 'C:\\\\Users\\\\andybandy\\\\Pictures\\\\SpotlightImagesRevealed\\\\acf04a417ea74ef3067cdc66884d73947092a3821ea8964a66d69aca9a83b0b6.jpeg',\n",
       " 'C:\\\\Users\\\\andybandy\\\\Pictures\\\\SpotlightImagesRevealed\\\\b4b621d9034448d2b594ca172300cb9fcc633e95afc80a2d5836217b4881ca08.jpeg',\n",
       " 'C:\\\\Users\\\\andybandy\\\\Pictures\\\\SpotlightImagesRevealed\\\\b8ec8fee2e928bbcd541544a9762c1165c64526aff766b666b9408eaae8774b7.jpeg',\n",
       " 'C:\\\\Users\\\\andybandy\\\\Pictures\\\\SpotlightImagesRevealed\\\\c1f5b2ee9db1f4c490a040041da8e47c6803d8174b5163940d36b2158b3fc0df.jpeg',\n",
       " 'C:\\\\Users\\\\andybandy\\\\Pictures\\\\SpotlightImagesRevealed\\\\c512d91993de270833611e26eb6edee63fb379fde1ca05df1e93a20fb87a373a.jpeg',\n",
       " 'C:\\\\Users\\\\andybandy\\\\Pictures\\\\SpotlightImagesRevealed\\\\e2a81c96433bbc45bec155789bd91cddd18c2a7cee39d577906e41068133eea1.jpeg',\n",
       " 'C:\\\\Users\\\\andybandy\\\\Pictures\\\\SpotlightImagesRevealed\\\\e5001c0b3d69aa00e182c5ef06a09f0dfac5d2f7e06cd4a0acd1cdd023fea3c1.jpeg',\n",
       " 'C:\\\\Users\\\\andybandy\\\\Pictures\\\\SpotlightImagesRevealed\\\\ef5bbfbb17efa124c976aad67896a4678c240399bdb2ec87b49205321d9c876e.jpeg',\n",
       " 'C:\\\\Users\\\\andybandy\\\\Pictures\\\\SpotlightImagesRevealed\\\\f7f9a62d8f8439def58a7c5fb172cf396ffcd8a3b96e4d79d43a39cb0b7b9751.jpeg',\n",
       " 'C:\\\\Users\\\\andybandy\\\\Pictures\\\\SpotlightImagesRevealed\\\\ffc286f271c4818e91e8ce24aac9053e34e2a68dee29c7f6ee0d4989e921b55d.jpeg']"
      ]
     },
     "execution_count": 116,
     "metadata": {},
     "output_type": "execute_result"
    }
   ],
   "source": [
    "# copy all files from SpotLight temp user folder to SpotlightImagesRevealed one\n",
    "fromDirectory = tempFolder\n",
    "toDirectory = slPathUser\n",
    "copy_tree(fromDirectory, toDirectory)"
   ]
  },
  {
   "cell_type": "code",
   "execution_count": 117,
   "metadata": {},
   "outputs": [],
   "source": [
    "# remove the temp SpotlightImagesRevealed folder\n",
    "try:\n",
    "    shutil.rmtree(tempFolder)\n",
    "except OSError as e:\n",
    "    print (\"Error: %s - %s.\" % (e.filename, e.strerror))"
   ]
  }
 ],
 "metadata": {
  "kernelspec": {
   "display_name": "Python 3",
   "language": "python",
   "name": "python3"
  },
  "language_info": {
   "codemirror_mode": {
    "name": "ipython",
    "version": 3
   },
   "file_extension": ".py",
   "mimetype": "text/x-python",
   "name": "python",
   "nbconvert_exporter": "python",
   "pygments_lexer": "ipython3",
   "version": "3.5.2"
  }
 },
 "nbformat": 4,
 "nbformat_minor": 2
}
