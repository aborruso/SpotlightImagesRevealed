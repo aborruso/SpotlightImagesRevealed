{
 "cells": [
  {
   "cell_type": "code",
   "execution_count": 1,
   "metadata": {
    "collapsed": true
   },
   "outputs": [],
   "source": [
    "import getpass\n",
    "import os\n",
    "import imghdr\n",
    "from PIL import Image"
   ]
  },
  {
   "cell_type": "code",
   "execution_count": 2,
   "metadata": {
    "collapsed": true
   },
   "outputs": [],
   "source": [
    "# get the username\n",
    "uname=getpass.getuser()"
   ]
  },
  {
   "cell_type": "code",
   "execution_count": 3,
   "metadata": {
    "collapsed": true
   },
   "outputs": [],
   "source": [
    "# get the spotlight folder \n",
    "slPathpart=\"AppData\\\\Local\\\\Packages\\\\Microsoft.Windows.ContentDeliveryManager_cw5n1h2txyewy\\\\LocalState\\\\Assets\"\n",
    "slPath=os.path.join('C:\\\\Users', uname, slPathpart)\n",
    "os.chdir(slPath)"
   ]
  },
  {
   "cell_type": "code",
   "execution_count": 4,
   "metadata": {
    "collapsed": true
   },
   "outputs": [],
   "source": [
    "# create the SpotlightImagesRevealed user folder\n",
    "slPathUser=os.path.join('C:\\\\Users', uname, 'Pictures\\\\SpotlightImagesRevealed')\n",
    "if not os.path.exists(slPathUser):\n",
    "    os.makedirs(slPathUser)"
   ]
  },
  {
   "cell_type": "code",
   "execution_count": 5,
   "metadata": {
    "collapsed": true
   },
   "outputs": [],
   "source": [
    "# delete all files in SpotLightRevealed folder\n",
    "for the_file in os.listdir(slPathUser):\n",
    "    file_path = os.path.join(slPathUser, the_file)\n",
    "    try:\n",
    "        if os.path.isfile(file_path):\n",
    "            os.unlink(file_path)\n",
    "    except Exception as e:\n",
    "        print(e)"
   ]
  },
  {
   "cell_type": "code",
   "execution_count": 6,
   "metadata": {},
   "outputs": [
    {
     "data": {
      "text/plain": [
       "['C:\\\\Users\\\\andybandy\\\\Pictures\\\\SpotlightImagesRevealed\\\\040cabc8d2c98d2ffcaed125b7c3a0f41f9cec1304b4c01546ba51561a590178',\n",
       " 'C:\\\\Users\\\\andybandy\\\\Pictures\\\\SpotlightImagesRevealed\\\\04b5fc303d11bb6650bf488cf44a1e9bedd192152f205cfb3f30f388a7fcb347',\n",
       " 'C:\\\\Users\\\\andybandy\\\\Pictures\\\\SpotlightImagesRevealed\\\\06e51e3d3d0646064c03f083270df556b96f562cad06085ea73a9a4ce1b509c6',\n",
       " 'C:\\\\Users\\\\andybandy\\\\Pictures\\\\SpotlightImagesRevealed\\\\0b5ed0fcb47e99eb9e453a4840b868559050b844e04d90a2b63d39af1e8e183b',\n",
       " 'C:\\\\Users\\\\andybandy\\\\Pictures\\\\SpotlightImagesRevealed\\\\0c0eede1394421e9368ca381b006710a6eeaa6f59cfac0e2710847e01b6b9dec',\n",
       " 'C:\\\\Users\\\\andybandy\\\\Pictures\\\\SpotlightImagesRevealed\\\\0cb49d8e3c5248f98e75898e66fdaecbf24722528cdd5c9be08b8647b6c42ac8',\n",
       " 'C:\\\\Users\\\\andybandy\\\\Pictures\\\\SpotlightImagesRevealed\\\\0dc930d390a2f85baba4dfc96a00a59a5f0472a34d687d8e1d64a5a29dd44aa5',\n",
       " 'C:\\\\Users\\\\andybandy\\\\Pictures\\\\SpotlightImagesRevealed\\\\0df771c74868690fc305d62660a0b99bbc89c57e69989b62dcfab43b74e5f628',\n",
       " 'C:\\\\Users\\\\andybandy\\\\Pictures\\\\SpotlightImagesRevealed\\\\0f42373d1f04b895f84c44c85a18ee3d8eb2259264b1cf58acbc50a53fec3932',\n",
       " 'C:\\\\Users\\\\andybandy\\\\Pictures\\\\SpotlightImagesRevealed\\\\11b1cf6489254d49fee1b93f2f9c6997b92b91bae8fe4dcead722684c818c175',\n",
       " 'C:\\\\Users\\\\andybandy\\\\Pictures\\\\SpotlightImagesRevealed\\\\1418ae29fa6b460601777b8e3809afa3cbc1d6a79e28d21077c1b32cfc5ec3d9',\n",
       " 'C:\\\\Users\\\\andybandy\\\\Pictures\\\\SpotlightImagesRevealed\\\\141fc006a606326e0763dc07ea04f04f1d71f0f4497b47b6841c36aa83c870fe',\n",
       " 'C:\\\\Users\\\\andybandy\\\\Pictures\\\\SpotlightImagesRevealed\\\\14a697c4224c3058bcb2bf756c88fb00f4819289079c4a3493173268a3e868fe',\n",
       " 'C:\\\\Users\\\\andybandy\\\\Pictures\\\\SpotlightImagesRevealed\\\\20b061ddb1a3ce78e3520bef6e532f13ffb642920273d60cf21997a0f3a0daed',\n",
       " 'C:\\\\Users\\\\andybandy\\\\Pictures\\\\SpotlightImagesRevealed\\\\21b9cc96eec532a8402292df163930268babd55b4a983a4d152157f8f078245c',\n",
       " 'C:\\\\Users\\\\andybandy\\\\Pictures\\\\SpotlightImagesRevealed\\\\242ef74d51c5a08f25b250a9ed1bb194141734d18e69e9ff88e2a123e99e2b17',\n",
       " 'C:\\\\Users\\\\andybandy\\\\Pictures\\\\SpotlightImagesRevealed\\\\2adf973d25f2111b5fd5c7de04a890c97c791f4c05c261a09bb3f9edf302fc23',\n",
       " 'C:\\\\Users\\\\andybandy\\\\Pictures\\\\SpotlightImagesRevealed\\\\2e3267a60af8756df86716b74d486058fc2b1d40319f7fdc35a4cf9d00e2a789',\n",
       " 'C:\\\\Users\\\\andybandy\\\\Pictures\\\\SpotlightImagesRevealed\\\\2f427bbf24084d70efa7be7b5b5050d88399b7f6698a01eb52ceb97a89b65f91',\n",
       " 'C:\\\\Users\\\\andybandy\\\\Pictures\\\\SpotlightImagesRevealed\\\\33f0e90fd378d46b07549a90da51d6d29f4644380ad48a9e707de80ffd9c234e',\n",
       " 'C:\\\\Users\\\\andybandy\\\\Pictures\\\\SpotlightImagesRevealed\\\\3815edf979733e11f0c85016132d2e6387513dc3058451a66d4ff1ff3d20e337',\n",
       " 'C:\\\\Users\\\\andybandy\\\\Pictures\\\\SpotlightImagesRevealed\\\\3b6327b17d948c5c2541851ad0c3542b3dffa4eca5320cb4b79fe716e1de0824',\n",
       " 'C:\\\\Users\\\\andybandy\\\\Pictures\\\\SpotlightImagesRevealed\\\\3ce7a425bc7d956229cdaad8fcb7dea1b8ec6bda5b0d19c7ae23ae43e5132f69',\n",
       " 'C:\\\\Users\\\\andybandy\\\\Pictures\\\\SpotlightImagesRevealed\\\\40fa13415c05fe4582f1c6e716458bb85cdfd80a0cc2878d3ffe423648428758',\n",
       " 'C:\\\\Users\\\\andybandy\\\\Pictures\\\\SpotlightImagesRevealed\\\\42e4efa8d9833723f83a79967b635d8f260a5d284f4e6da557fc43341fdd172c',\n",
       " 'C:\\\\Users\\\\andybandy\\\\Pictures\\\\SpotlightImagesRevealed\\\\42ecf7ffe30f411496bcb19920728dc75d806116a591277e1f77f6835f0750db',\n",
       " 'C:\\\\Users\\\\andybandy\\\\Pictures\\\\SpotlightImagesRevealed\\\\500c8c062c214fdadaa391b79832702a6ba22c290c3c0a4726c880470b878070',\n",
       " 'C:\\\\Users\\\\andybandy\\\\Pictures\\\\SpotlightImagesRevealed\\\\5254cdc89e00054b03d6fe4acb790171cfde9ef2adf276d0a1146ecc1a2c4746',\n",
       " 'C:\\\\Users\\\\andybandy\\\\Pictures\\\\SpotlightImagesRevealed\\\\558a52a23d4f7a1cf8a2c25ffe554423ec1eefdf04ddb848c36ae2e29c64e853',\n",
       " 'C:\\\\Users\\\\andybandy\\\\Pictures\\\\SpotlightImagesRevealed\\\\5903987fd0553a29e27ea3bce5296ca29dd70eff9b8bac00ed6331fb2579619a',\n",
       " 'C:\\\\Users\\\\andybandy\\\\Pictures\\\\SpotlightImagesRevealed\\\\5961bde17628dcff26ad0cffe8ce5f59f9163f0cfa7b5b4958a21de65fbd1ab8',\n",
       " 'C:\\\\Users\\\\andybandy\\\\Pictures\\\\SpotlightImagesRevealed\\\\5d129868e5ee89b35f01acc57ef46f394dac237901f8fc6fd1fa79472a059181',\n",
       " 'C:\\\\Users\\\\andybandy\\\\Pictures\\\\SpotlightImagesRevealed\\\\63a65a19fd4f2e477a4c1c77e16d90a6d46844c73145bc9ee4912eab0222401b',\n",
       " 'C:\\\\Users\\\\andybandy\\\\Pictures\\\\SpotlightImagesRevealed\\\\67f2b016e59637e2fa4b6d23f00c19e2a87a3833578ebd8d592052381f59832f',\n",
       " 'C:\\\\Users\\\\andybandy\\\\Pictures\\\\SpotlightImagesRevealed\\\\67fce399151125af25a65c60302264acbc9e48a0c9d5f8f4d267854ef8622132',\n",
       " 'C:\\\\Users\\\\andybandy\\\\Pictures\\\\SpotlightImagesRevealed\\\\6981fe49f8861ed5fc2a9bbfda8433c94cc0effc29e5f39ee6ee5f0dcdb7cdb6',\n",
       " 'C:\\\\Users\\\\andybandy\\\\Pictures\\\\SpotlightImagesRevealed\\\\73c56233aa4ba2410441143d0f62ddd6836a04f77f092cd318e7d2b0276905c5',\n",
       " 'C:\\\\Users\\\\andybandy\\\\Pictures\\\\SpotlightImagesRevealed\\\\74e5289d2260ee0152bc83323045f3583889b2dbb27378c688372daf027991d4',\n",
       " 'C:\\\\Users\\\\andybandy\\\\Pictures\\\\SpotlightImagesRevealed\\\\7505bab78b7fb814bc93b62d711c3f2b0bbd935e99062b911cd3e36289cbd922',\n",
       " 'C:\\\\Users\\\\andybandy\\\\Pictures\\\\SpotlightImagesRevealed\\\\77387eec48ed36e6ea3b310737c862ca5e6071c0ca1a5259caa86363fc75e5c7',\n",
       " 'C:\\\\Users\\\\andybandy\\\\Pictures\\\\SpotlightImagesRevealed\\\\780c3e92562b8572fc8fc88dd0a74ccbcbc8269bb1608ec555ffc338c7bd6291',\n",
       " 'C:\\\\Users\\\\andybandy\\\\Pictures\\\\SpotlightImagesRevealed\\\\80909c3a9cb4c0b3fdfbd7785f2d008f0732f90859da1d8d4b84445125fab616',\n",
       " 'C:\\\\Users\\\\andybandy\\\\Pictures\\\\SpotlightImagesRevealed\\\\838f947dc3ae4cad7d0d6a242a3cef74729e56c40e33ad603546f27f71ad35d4',\n",
       " 'C:\\\\Users\\\\andybandy\\\\Pictures\\\\SpotlightImagesRevealed\\\\8440e87f30b894c12d88b2250f5254e83b93975245677188ddc3006609980709',\n",
       " 'C:\\\\Users\\\\andybandy\\\\Pictures\\\\SpotlightImagesRevealed\\\\845a5bc8aaca52fc4f57de0b4e2a2e0bb6b7f1836b85d118478b8f51f469a846',\n",
       " 'C:\\\\Users\\\\andybandy\\\\Pictures\\\\SpotlightImagesRevealed\\\\871991655f2dc1d3a8768d754fbf3c59d4f0edb901b9743eb37ebb7a3661f672',\n",
       " 'C:\\\\Users\\\\andybandy\\\\Pictures\\\\SpotlightImagesRevealed\\\\8bcebf4b03f959add4d718b086d01628b27d7afb55b3cdd65b2cf24553ae8d32',\n",
       " 'C:\\\\Users\\\\andybandy\\\\Pictures\\\\SpotlightImagesRevealed\\\\93853c286110617352cf26c0a5f80cf1ff85f916b7337842b12bcb287f7b3217',\n",
       " 'C:\\\\Users\\\\andybandy\\\\Pictures\\\\SpotlightImagesRevealed\\\\96930684d242048e9ee8ffee9637d3e5f7134ca9f9edcacfffd0d1b5f3f69417',\n",
       " 'C:\\\\Users\\\\andybandy\\\\Pictures\\\\SpotlightImagesRevealed\\\\9901a1cff271220c0ba2d6c838138957f54d1a731139316243059dcdc1299a8e',\n",
       " 'C:\\\\Users\\\\andybandy\\\\Pictures\\\\SpotlightImagesRevealed\\\\9b513868bee177c10eafe9250908df245dddc6524e86a9fde16108bc49cf5d1b',\n",
       " 'C:\\\\Users\\\\andybandy\\\\Pictures\\\\SpotlightImagesRevealed\\\\9b5ec4ccaba14238a721e160b8b9a0fe9e1005ae2607e0769fb1aa85403d3a6b',\n",
       " 'C:\\\\Users\\\\andybandy\\\\Pictures\\\\SpotlightImagesRevealed\\\\9b6a28c20c7070a22184455feac35581863eb2e2a8f227d46885ebff647cffc1',\n",
       " 'C:\\\\Users\\\\andybandy\\\\Pictures\\\\SpotlightImagesRevealed\\\\9ba8e12d55685ff393d3698af3f8eca6d5c99643cbcab0f9a24eb3b891ce518b',\n",
       " 'C:\\\\Users\\\\andybandy\\\\Pictures\\\\SpotlightImagesRevealed\\\\9cc7cc26c45c96a8e98436d2a5da4f34dadb8d1902dea0869b2ba10f8de01855',\n",
       " 'C:\\\\Users\\\\andybandy\\\\Pictures\\\\SpotlightImagesRevealed\\\\a3305fea147e7b150dee65ecfc03ed335627f85c8d04acef0f06b437e0f60bb2',\n",
       " 'C:\\\\Users\\\\andybandy\\\\Pictures\\\\SpotlightImagesRevealed\\\\a5b85a8183207280113e1f9d7c52924612e028d4808c8a1cfc83f3f2150b1976',\n",
       " 'C:\\\\Users\\\\andybandy\\\\Pictures\\\\SpotlightImagesRevealed\\\\a9c76416b44c8b9c8311d76c9518be97838a5a532338a19c5ac98f91c9936821',\n",
       " 'C:\\\\Users\\\\andybandy\\\\Pictures\\\\SpotlightImagesRevealed\\\\a9f024126738acbd07c400c92e682a5ac8c61d8b09b614001531705f69d4d916',\n",
       " 'C:\\\\Users\\\\andybandy\\\\Pictures\\\\SpotlightImagesRevealed\\\\ac595869b7482cf0de3d307d8beb5a5dc6f938b40cc281b51636f2fbcd093f32',\n",
       " 'C:\\\\Users\\\\andybandy\\\\Pictures\\\\SpotlightImagesRevealed\\\\aca779be0235d41d3eef8b9c21264045c3c21799b7d8d02d14a6d6ae1644d102',\n",
       " 'C:\\\\Users\\\\andybandy\\\\Pictures\\\\SpotlightImagesRevealed\\\\acf04a417ea74ef3067cdc66884d73947092a3821ea8964a66d69aca9a83b0b6',\n",
       " 'C:\\\\Users\\\\andybandy\\\\Pictures\\\\SpotlightImagesRevealed\\\\ad466945e328e5bbde0cddd4ce85af3fda65ac1a08f15830f3f02fd272f76955',\n",
       " 'C:\\\\Users\\\\andybandy\\\\Pictures\\\\SpotlightImagesRevealed\\\\ad7f16c95095a317b6e5ed0bc96fd206c3c452662ce72f8073e405e72fc5888a',\n",
       " 'C:\\\\Users\\\\andybandy\\\\Pictures\\\\SpotlightImagesRevealed\\\\adcfbe394e5e69b00f129b735f565353b24a9f5eb2b51e27bade2db2c99f9363',\n",
       " 'C:\\\\Users\\\\andybandy\\\\Pictures\\\\SpotlightImagesRevealed\\\\b39228803747344da091ad36bb407b55b8a055da5318c2926735d41ff5c0ebd4',\n",
       " 'C:\\\\Users\\\\andybandy\\\\Pictures\\\\SpotlightImagesRevealed\\\\b4b621d9034448d2b594ca172300cb9fcc633e95afc80a2d5836217b4881ca08',\n",
       " 'C:\\\\Users\\\\andybandy\\\\Pictures\\\\SpotlightImagesRevealed\\\\b70c7af29f89e03c32ddcc59074003ba80b24c9ce015084d9c2d34f5bf631335',\n",
       " 'C:\\\\Users\\\\andybandy\\\\Pictures\\\\SpotlightImagesRevealed\\\\b8ec8fee2e928bbcd541544a9762c1165c64526aff766b666b9408eaae8774b7',\n",
       " 'C:\\\\Users\\\\andybandy\\\\Pictures\\\\SpotlightImagesRevealed\\\\bd76008df5f79219e5e94336c18c9eda1016f07d4d2ba56533fc675b1389e5f0',\n",
       " 'C:\\\\Users\\\\andybandy\\\\Pictures\\\\SpotlightImagesRevealed\\\\bd777c36cf65eb14b706334c348bb0ca3725010ecbddaa9a73dd4892ee02ee79',\n",
       " 'C:\\\\Users\\\\andybandy\\\\Pictures\\\\SpotlightImagesRevealed\\\\c43f23f8763aae68b58f33e6bdee12ff392b9ffd100b7e91045a1b21f5bf141c',\n",
       " 'C:\\\\Users\\\\andybandy\\\\Pictures\\\\SpotlightImagesRevealed\\\\c512d91993de270833611e26eb6edee63fb379fde1ca05df1e93a20fb87a373a',\n",
       " 'C:\\\\Users\\\\andybandy\\\\Pictures\\\\SpotlightImagesRevealed\\\\c7b3d8c840afa7bf15d0da81749d933eb82158ec19fdfba5309340347f91bc8a',\n",
       " 'C:\\\\Users\\\\andybandy\\\\Pictures\\\\SpotlightImagesRevealed\\\\cc281dde54c8f215b4c805eb09ca3db44c3257725028e89861bdbd465444402b',\n",
       " 'C:\\\\Users\\\\andybandy\\\\Pictures\\\\SpotlightImagesRevealed\\\\cfe99976d8488fdb9b2bd4cde8c56b0c129130503e7e948315f79726a0bfca88',\n",
       " 'C:\\\\Users\\\\andybandy\\\\Pictures\\\\SpotlightImagesRevealed\\\\d4b4cc05772b1eb8c188ab680dd43f6114269b9182c828ccf70c8768bfbc479c',\n",
       " 'C:\\\\Users\\\\andybandy\\\\Pictures\\\\SpotlightImagesRevealed\\\\d50af968db55a7d4fa8443c715f03ef4229f701312f0c57050814747eaf2970e',\n",
       " 'C:\\\\Users\\\\andybandy\\\\Pictures\\\\SpotlightImagesRevealed\\\\d78072981314a0bfe875c5448babba2334ef80d3ddae7b92ca79cb5336640b9a',\n",
       " 'C:\\\\Users\\\\andybandy\\\\Pictures\\\\SpotlightImagesRevealed\\\\d87211a4f29afa9fc0b81a941968f338ef735ca85fc46b0706fc609f31bc4854',\n",
       " 'C:\\\\Users\\\\andybandy\\\\Pictures\\\\SpotlightImagesRevealed\\\\d8b79691c148053d5a2d2abbadaf5d480fbec61e15f5250717339f1f240f66c2',\n",
       " 'C:\\\\Users\\\\andybandy\\\\Pictures\\\\SpotlightImagesRevealed\\\\da455f689eef2a889a0901c69121ef8903c6e61c0aaaf0a45bf2b863d6ebde45',\n",
       " 'C:\\\\Users\\\\andybandy\\\\Pictures\\\\SpotlightImagesRevealed\\\\dc80eb34ad76f80b32f327d83095c56d044b811071db73928879c9573ae9522f',\n",
       " 'C:\\\\Users\\\\andybandy\\\\Pictures\\\\SpotlightImagesRevealed\\\\dc8f1e566b8422b93b88c034c99b9245583ad1eaa22154e1756001f3900a2046',\n",
       " 'C:\\\\Users\\\\andybandy\\\\Pictures\\\\SpotlightImagesRevealed\\\\e2a81c96433bbc45bec155789bd91cddd18c2a7cee39d577906e41068133eea1',\n",
       " 'C:\\\\Users\\\\andybandy\\\\Pictures\\\\SpotlightImagesRevealed\\\\e5001c0b3d69aa00e182c5ef06a09f0dfac5d2f7e06cd4a0acd1cdd023fea3c1',\n",
       " 'C:\\\\Users\\\\andybandy\\\\Pictures\\\\SpotlightImagesRevealed\\\\e7d71e812a48d5b65ef9ff20a9f6f3d470aad34fb72f9c48398f885f8cc47409',\n",
       " 'C:\\\\Users\\\\andybandy\\\\Pictures\\\\SpotlightImagesRevealed\\\\eb5d80a03f34066910ad41b15e2cda80a67dfb856b70cfa7db2756d3db69c9c8',\n",
       " 'C:\\\\Users\\\\andybandy\\\\Pictures\\\\SpotlightImagesRevealed\\\\ed19e00b8c95fb736d1f40bf8a0c816106533684d24b487f0c2f55082539cf9c',\n",
       " 'C:\\\\Users\\\\andybandy\\\\Pictures\\\\SpotlightImagesRevealed\\\\ef2e14ecf3e683707f6146e76567e21c8474d717714189c8907e7be4854db185',\n",
       " 'C:\\\\Users\\\\andybandy\\\\Pictures\\\\SpotlightImagesRevealed\\\\ef5bbfbb17efa124c976aad67896a4678c240399bdb2ec87b49205321d9c876e',\n",
       " 'C:\\\\Users\\\\andybandy\\\\Pictures\\\\SpotlightImagesRevealed\\\\f10191670e297f3474d86420e739df84436ba2ef5c51b3644873f04dde1a2cc0',\n",
       " 'C:\\\\Users\\\\andybandy\\\\Pictures\\\\SpotlightImagesRevealed\\\\f4d042762361f906abedfc01a56dfeac90dfdb41eda2c949505fab824d36d628',\n",
       " 'C:\\\\Users\\\\andybandy\\\\Pictures\\\\SpotlightImagesRevealed\\\\f77931006fa564cd71f49fe46a77ef1ab434891d4e702a3d45427873f5a7fb68',\n",
       " 'C:\\\\Users\\\\andybandy\\\\Pictures\\\\SpotlightImagesRevealed\\\\f7f9a62d8f8439def58a7c5fb172cf396ffcd8a3b96e4d79d43a39cb0b7b9751',\n",
       " 'C:\\\\Users\\\\andybandy\\\\Pictures\\\\SpotlightImagesRevealed\\\\ffc286f271c4818e91e8ce24aac9053e34e2a68dee29c7f6ee0d4989e921b55d']"
      ]
     },
     "execution_count": 6,
     "metadata": {},
     "output_type": "execute_result"
    }
   ],
   "source": [
    "# copy all files from SpotLight source folder to SpotlightImagesRevealed one\n",
    "from distutils.dir_util import copy_tree\n",
    "fromDirectory = slPath\n",
    "toDirectory = slPathUser\n",
    "copy_tree(fromDirectory, toDirectory)"
   ]
  },
  {
   "cell_type": "code",
   "execution_count": 7,
   "metadata": {
    "collapsed": true
   },
   "outputs": [],
   "source": [
    "# delete all files that are not jpeg\n",
    "for root, _, files in os.walk(slPathUser):\n",
    "    for f in files:\n",
    "        fullpath = os.path.join(root, f)\n",
    "        imageType=imghdr.what(fullpath)\n",
    "        try:\n",
    "            if (imageType != 'jpeg'):\n",
    "                os.remove(fullpath)\n",
    "        except WindowsError:\n",
    "            print(\"Error \" + fullpath)"
   ]
  },
  {
   "cell_type": "code",
   "execution_count": 8,
   "metadata": {
    "collapsed": true
   },
   "outputs": [],
   "source": [
    "# add the right extension to files\n",
    "for root, _, files in os.walk(slPathUser):\n",
    "    for f in files:\n",
    "        fullpath = os.path.join(root, f)\n",
    "        imageType=imghdr.what(fullpath)\n",
    "        try:\n",
    "            suffix = imageType\n",
    "            newName = os.path.join(fullpath + '.' + suffix)\n",
    "            os.rename(fullpath,newName)\n",
    "        except WindowsError:\n",
    "            print(\"Error \" + fullpath)"
   ]
  },
  {
   "cell_type": "code",
   "execution_count": 9,
   "metadata": {
    "collapsed": true
   },
   "outputs": [],
   "source": [
    "# remove the images that have a portrait ratio or a widht lower than 1920px\n",
    "for root, _, files in os.walk(slPathUser):\n",
    "    for f in files:\n",
    "        fullpath = os.path.join(root, f)\n",
    "        im = Image.open(fullpath)\n",
    "        width, height = im.size\n",
    "        ratio = width/height\n",
    "        im.close()\n",
    "        if (ratio <= 1.0) or (width < 1920):\n",
    "            try:\n",
    "                os.remove(fullpath)\n",
    "            except WindowsError:\n",
    "                print(\"Error \" + fullpath)"
   ]
  }
 ],
 "metadata": {
  "kernelspec": {
   "display_name": "Python 3",
   "language": "python",
   "name": "python3"
  },
  "language_info": {
   "codemirror_mode": {
    "name": "ipython",
    "version": 3
   },
   "file_extension": ".py",
   "mimetype": "text/x-python",
   "name": "python",
   "nbconvert_exporter": "python",
   "pygments_lexer": "ipython3",
   "version": "3.5.2"
  }
 },
 "nbformat": 4,
 "nbformat_minor": 2
}
